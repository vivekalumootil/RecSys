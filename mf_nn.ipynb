{
 "cells": [
  {
   "cell_type": "code",
   "execution_count": 1,
   "id": "d74b4694",
   "metadata": {},
   "outputs": [],
   "source": [
    "# Code adapted from https://medium.com/@jdwittenauer/deep-learning-with-keras-recommender-systems-e7b99cb29929\n",
    "%matplotlib inline\n",
    "\n",
    "import tensorflow as tf\n",
    "import numpy as np\n",
    "import pandas as pd\n",
    "from sklearn.model_selection import train_test_split\n",
    "from sklearn.preprocessing import LabelEncoder\n",
    "\n",
    "from keras.models import Model, model_from_json, load_model, Sequential\n",
    "from keras.layers import Input, Reshape, Dot, Add, Activation, Lambda, Concatenate, Dense, Multiply, Conv1D, Flatten\n",
    "from keras.layers.embeddings import Embedding\n",
    "from keras.optimizers import adam_v2\n",
    "from keras.regularizers import l2"
   ]
  },
  {
   "cell_type": "code",
   "execution_count": 2,
   "id": "8419c243",
   "metadata": {},
   "outputs": [
    {
     "data": {
      "text/plain": [
       "(6038, 3952, 1.0, 5.0)"
      ]
     },
     "execution_count": 2,
     "metadata": {},
     "output_type": "execute_result"
    }
   ],
   "source": [
    "# Reads Data\n",
    "ratings = pd.read_csv('ratings.csv')\n",
    "n_users = ratings['userId'].nunique()\n",
    "n_movies = ratings['movieId'].max()\n",
    "ratings['rating'] = ratings['rating'].values.astype(np.float32)\n",
    "min_rating = 1.0\n",
    "max_rating = 5.0\n",
    "\n",
    "n_users, n_movies, min_rating, max_rating"
   ]
  },
  {
   "cell_type": "code",
   "execution_count": 3,
   "id": "2e002c2c",
   "metadata": {},
   "outputs": [
    {
     "data": {
      "text/plain": [
       "((199949, 2), (799796, 2), (199949,), (799796,))"
      ]
     },
     "execution_count": 3,
     "metadata": {},
     "output_type": "execute_result"
    }
   ],
   "source": [
    "# Splits data into training and testing datasets\n",
    "X = ratings[['userId', 'movieId']].values\n",
    "y = ratings['rating'].values\n",
    "X_train, X_test, y_train, y_test = train_test_split(X, y, test_size=0.8, random_state=42)\n",
    "X_train.shape, X_test.shape, y_train.shape, y_test.shape"
   ]
  },
  {
   "cell_type": "code",
   "execution_count": 4,
   "id": "adc2f4d0",
   "metadata": {},
   "outputs": [],
   "source": [
    "# n_factors = size of item and movie embedding matrices\n",
    "n_factors = 25\n",
    "X_train_array = [X_train[:, 0], X_train[:, 1]]\n",
    "X_test_array = [X_test[:, 0], X_test[:, 1]]"
   ]
  },
  {
   "cell_type": "code",
   "execution_count": 5,
   "id": "be13bcef",
   "metadata": {},
   "outputs": [],
   "source": [
    "# Embedding layer class\n",
    "class EmbeddingLayer:\n",
    "    def __init__(self, n_items, n_factors):\n",
    "        self.n_items = n_items\n",
    "        self.n_factors = n_factors\n",
    "    \n",
    "    def __call__(self, x):\n",
    "        x = Embedding(self.n_items, self.n_factors, embeddings_initializer='he_normal',\n",
    "                      embeddings_regularizer=l2(1e-6))(x)\n",
    "        x = Reshape((self.n_factors,))(x)\n",
    "        return x\n",
    "\n",
    "def MF(n_users, n_movies, n_factors, min_rating, max_rating):\n",
    "    user = Input(shape=(1,))\n",
    "    u = EmbeddingLayer(n_users, n_factors)(user)\n",
    "    u_1d = EmbeddingLayer(n_users, 1)(user)\n",
    "    \n",
    "    movie = Input(shape=(1,))\n",
    "    m = EmbeddingLayer(n_movies, n_factors)(movie)\n",
    "    m_1d = EmbeddingLayer(n_movies, 1)(movie)\n",
    "    \n",
    "    x = Dot(axes=1)([u, m])\n",
    "    x = Add()([x, u_1d, m_1d])\n",
    "    x = Activation('sigmoid')(x)\n",
    "    x = Lambda(lambda x: x * (max_rating - min_rating) + min_rating)(x)\n",
    "    model = Model(inputs=[user, movie], outputs=x)\n",
    "    opt = adam_v2.Adam(learning_rate=0.001)\n",
    "    model.compile(loss='mae', optimizer=opt)\n",
    "    return model"
   ]
  },
  {
   "cell_type": "code",
   "execution_count": 7,
   "id": "2277fd83",
   "metadata": {},
   "outputs": [
    {
     "name": "stderr",
     "output_type": "stream",
     "text": [
      "2022-02-13 18:49:03.301515: I tensorflow/core/platform/cpu_feature_guard.cc:151] This TensorFlow binary is optimized with oneAPI Deep Neural Network Library (oneDNN) to use the following CPU instructions in performance-critical operations:  AVX2 FMA\n",
      "To enable them in other operations, rebuild TensorFlow with the appropriate compiler flags.\n"
     ]
    },
    {
     "name": "stdout",
     "output_type": "stream",
     "text": [
      "Model: \"model\"\n",
      "__________________________________________________________________________________________________\n",
      " Layer (type)                   Output Shape         Param #     Connected to                     \n",
      "==================================================================================================\n",
      " input_1 (InputLayer)           [(None, 1)]          0           []                               \n",
      "                                                                                                  \n",
      " input_2 (InputLayer)           [(None, 1)]          0           []                               \n",
      "                                                                                                  \n",
      " embedding (Embedding)          (None, 1, 25)        150975      ['input_1[0][0]']                \n",
      "                                                                                                  \n",
      " embedding_2 (Embedding)        (None, 1, 25)        98825       ['input_2[0][0]']                \n",
      "                                                                                                  \n",
      " reshape (Reshape)              (None, 25)           0           ['embedding[0][0]']              \n",
      "                                                                                                  \n",
      " reshape_2 (Reshape)            (None, 25)           0           ['embedding_2[0][0]']            \n",
      "                                                                                                  \n",
      " embedding_1 (Embedding)        (None, 1, 1)         6039        ['input_1[0][0]']                \n",
      "                                                                                                  \n",
      " embedding_3 (Embedding)        (None, 1, 1)         3953        ['input_2[0][0]']                \n",
      "                                                                                                  \n",
      " dot (Dot)                      (None, 1)            0           ['reshape[0][0]',                \n",
      "                                                                  'reshape_2[0][0]']              \n",
      "                                                                                                  \n",
      " reshape_1 (Reshape)            (None, 1)            0           ['embedding_1[0][0]']            \n",
      "                                                                                                  \n",
      " reshape_3 (Reshape)            (None, 1)            0           ['embedding_3[0][0]']            \n",
      "                                                                                                  \n",
      " add (Add)                      (None, 1)            0           ['dot[0][0]',                    \n",
      "                                                                  'reshape_1[0][0]',              \n",
      "                                                                  'reshape_3[0][0]']              \n",
      "                                                                                                  \n",
      " activation (Activation)        (None, 1)            0           ['add[0][0]']                    \n",
      "                                                                                                  \n",
      " lambda (Lambda)                (None, 1)            0           ['activation[0][0]']             \n",
      "                                                                                                  \n",
      "==================================================================================================\n",
      "Total params: 259,792\n",
      "Trainable params: 259,792\n",
      "Non-trainable params: 0\n",
      "__________________________________________________________________________________________________\n",
      "Epoch 1/5\n",
      "3125/3125 [==============================] - 19s 6ms/step - loss: 0.9273 - val_loss: 0.8101\n",
      "Epoch 2/5\n",
      "3125/3125 [==============================] - 17s 6ms/step - loss: 0.7434 - val_loss: 0.7496\n",
      "Epoch 3/5\n",
      "3125/3125 [==============================] - 14s 4ms/step - loss: 0.6795 - val_loss: 0.7389\n",
      "Epoch 4/5\n",
      "3125/3125 [==============================] - 14s 5ms/step - loss: 0.6289 - val_loss: 0.7393\n",
      "Epoch 5/5\n",
      "3125/3125 [==============================] - 13s 4ms/step - loss: 0.5826 - val_loss: 0.7456\n"
     ]
    }
   ],
   "source": [
    "# Instantiate model and fit to data\n",
    "model = MF(n_users+1, n_movies+1, n_factors, min_rating, max_rating)\n",
    "model.summary()\n",
    "history = model.fit(x=X_train_array, y=y_train,epochs=5, batch_size=64,\n",
    "                    verbose=1, validation_data=(X_test_array, y_test))"
   ]
  },
  {
   "cell_type": "code",
   "execution_count": 8,
   "id": "9fb9a5fb",
   "metadata": {},
   "outputs": [
    {
     "name": "stdout",
     "output_type": "stream",
     "text": [
      "12497/12497 [==============================] - 9s 721us/step - loss: 0.7456\n"
     ]
    },
    {
     "data": {
      "text/plain": [
       "0.7455586194992065"
      ]
     },
     "execution_count": 8,
     "metadata": {},
     "output_type": "execute_result"
    }
   ],
   "source": [
    "# Evaluate model\n",
    "model.evaluate(x=X_test_array, y=y_test, batch_size=64)"
   ]
  }
 ],
 "metadata": {
  "kernelspec": {
   "display_name": "Python 3 (ipykernel)",
   "language": "python",
   "name": "python3"
  },
  "language_info": {
   "codemirror_mode": {
    "name": "ipython",
    "version": 3
   },
   "file_extension": ".py",
   "mimetype": "text/x-python",
   "name": "python",
   "nbconvert_exporter": "python",
   "pygments_lexer": "ipython3",
   "version": "3.8.8"
  }
 },
 "nbformat": 4,
 "nbformat_minor": 5
}
